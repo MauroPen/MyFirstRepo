{
 "cells": [
  {
   "cell_type": "code",
   "execution_count": 11,
   "metadata": {},
   "outputs": [],
   "source": [
    "import math_pi\n",
    "import numpy\n",
    "import pandas\n",
    "\n",
    "from tabulate import tabulate\n",
    "\n",
    "from Check_Numbers_Pi.Dependency import main_computation, check_occurrencies"
   ]
  },
  {
   "attachments": {},
   "cell_type": "markdown",
   "metadata": {},
   "source": [
    "# Introduction"
   ]
  },
  {
   "attachments": {},
   "cell_type": "markdown",
   "metadata": {},
   "source": [
    "The objective of the study is a simple analysis aiming at finding links between combinations of numbers, how many digits they take to be found into Pi and their occurrencies. The analysis will only consider combinations which can be found within the first **million digits of Pi** because that is the best free option found online which is also contained into a Python module (**math-pi**)."
   ]
  },
  {
   "cell_type": "code",
   "execution_count": 12,
   "metadata": {},
   "outputs": [
    {
     "name": "stdout",
     "output_type": "stream",
     "text": [
      "3.1415926535897932384626433832795028841971693993751058209749445923078164062862089986280348253421170679\n"
     ]
    }
   ],
   "source": [
    "pi = math_pi.pi(1, 100)\n",
    "\n",
    "print(pi)"
   ]
  },
  {
   "attachments": {},
   "cell_type": "markdown",
   "metadata": {},
   "source": [
    "The first part will introduce the functions developed to check whether a given combination of numbers is present in pi and to count its occurrencies. Then, a subset of these combinations are considered for the actual analysis. Eventually, the results are presented and an interpretation (if possible) is provided."
   ]
  },
  {
   "attachments": {},
   "cell_type": "markdown",
   "metadata": {},
   "source": [
    "# The Functions"
   ]
  },
  {
   "attachments": {},
   "cell_type": "markdown",
   "metadata": {},
   "source": [
    "The first function developed (*main_computation*) takes a string as an input and returns a dictionary with the following keys:\n",
    "<pre>\n",
    "{\n",
    "    \"Digits Checked\": [int],    # Indicates the number of Pi checked before finding the combination requested\n",
    "    \"Pi Until\": [str],          # Stores the whole series of digits of Pi until the combination requested\n",
    "    \"Not Found\": True           # Boolean value indicating the result of the query\n",
    "}\n",
    "</pre>\n",
    "\n",
    "Hereby, an example is provided."
   ]
  },
  {
   "cell_type": "code",
   "execution_count": 13,
   "metadata": {},
   "outputs": [
    {
     "name": "stdout",
     "output_type": "stream",
     "text": [
      "{'Digits Checked': 76, 'Pi Until': '3141592653589793238462643383279502884197169399375105820974944592307816406286208', 'Not Found': False}\n"
     ]
    }
   ],
   "source": [
    "example = main_computation(\"208\")\n",
    "\n",
    "print(example)"
   ]
  },
  {
   "attachments": {},
   "cell_type": "markdown",
   "metadata": {},
   "source": [
    "The second function developed (*check_occurrencies*) takes a string and the \"*Digits Checked*\" value coming from the *main_computation* function. The function has been purposely developed to be run **after** that a combination has been proven to be found for efficiency reasons and simply returns the number of occurrencies of a given combination within the first million digits of pi.\n",
    "\n",
    "Hereby an example is provided."
   ]
  },
  {
   "cell_type": "code",
   "execution_count": 14,
   "metadata": {},
   "outputs": [
    {
     "name": "stdout",
     "output_type": "stream",
     "text": [
      "The number 208 has been found 1032 times.\n"
     ]
    }
   ],
   "source": [
    "example = check_occurrencies(\"208\", main_computation(\"208\")[\"Digits Checked\"])\n",
    "\n",
    "print(\"The number 208 has been found {Occurrencies} times.\".format(Occurrencies = example))"
   ]
  },
  {
   "attachments": {},
   "cell_type": "markdown",
   "metadata": {},
   "source": [
    "# The Combinations"
   ]
  },
  {
   "attachments": {},
   "cell_type": "markdown",
   "metadata": {},
   "source": [
    "All the combinations composed by a maximum of 5 digits that can be created between using the numbers between 0 and 9 are taken into account.\n",
    "\n",
    "To generate all the possible combinations, the *itertools* module can be used. The idea is to generate the combinations of 1, 2, 3, 4 and 5 digits and then collect them in an array.\n",
    "\n",
    "Hereby, an example of such application considering 2 digits is provided.\n",
    "\n",
    "**N.B.**: Notice that the combinations generated are also numerically sorted: every list of combinations, in fact, is also ordered from 0 to the highest number that is possible to generate with the amount of digits considered."
   ]
  },
  {
   "cell_type": "code",
   "execution_count": 15,
   "metadata": {},
   "outputs": [
    {
     "name": "stdout",
     "output_type": "stream",
     "text": [
      "[(0, 0), (0, 1), (0, 2), (0, 3), (0, 4), (0, 5), (0, 6), (0, 7), (0, 8), (0, 9), (1, 0), (1, 1), (1, 2), (1, 3), (1, 4), (1, 5), (1, 6), (1, 7), (1, 8), (1, 9), (2, 0), (2, 1), (2, 2), (2, 3), (2, 4), (2, 5), (2, 6), (2, 7), (2, 8), (2, 9), (3, 0), (3, 1), (3, 2), (3, 3), (3, 4), (3, 5), (3, 6), (3, 7), (3, 8), (3, 9), (4, 0), (4, 1), (4, 2), (4, 3), (4, 4), (4, 5), (4, 6), (4, 7), (4, 8), (4, 9), (5, 0), (5, 1), (5, 2), (5, 3), (5, 4), (5, 5), (5, 6), (5, 7), (5, 8), (5, 9), (6, 0), (6, 1), (6, 2), (6, 3), (6, 4), (6, 5), (6, 6), (6, 7), (6, 8), (6, 9), (7, 0), (7, 1), (7, 2), (7, 3), (7, 4), (7, 5), (7, 6), (7, 7), (7, 8), (7, 9), (8, 0), (8, 1), (8, 2), (8, 3), (8, 4), (8, 5), (8, 6), (8, 7), (8, 8), (8, 9), (9, 0), (9, 1), (9, 2), (9, 3), (9, 4), (9, 5), (9, 6), (9, 7), (9, 8), (9, 9)]\n",
      "\n",
      "\n",
      "<class 'tuple'>\n"
     ]
    }
   ],
   "source": [
    "import itertools\n",
    "\n",
    "set = [0, 1, 2, 3, 4, 5, 6, 7, 8, 9]\n",
    "\n",
    "# First the combinations are generated\n",
    "combinations_of_2_digits = [p for p in itertools.product(set, repeat = 2)]\n",
    "\n",
    "print(combinations_of_2_digits)\n",
    "\n",
    "print (\"\\n\")\n",
    "\n",
    "print (type(combinations_of_2_digits[0]))       # Showing the type of the first element (but they are all the same)"
   ]
  },
  {
   "attachments": {},
   "cell_type": "markdown",
   "metadata": {},
   "source": [
    "Since the *main_computation* function requires inputs to be strings, we cannot use the elements generated until we have first converted all its elements into strings while keeping its sorting."
   ]
  },
  {
   "cell_type": "code",
   "execution_count": 16,
   "metadata": {},
   "outputs": [
    {
     "name": "stdout",
     "output_type": "stream",
     "text": [
      "['00', '01', '02', '03', '04', '05', '06', '07', '08', '09', '10', '11', '12', '13', '14', '15', '16', '17', '18', '19', '20', '21', '22', '23', '24', '25', '26', '27', '28', '29', '30', '31', '32', '33', '34', '35', '36', '37', '38', '39', '40', '41', '42', '43', '44', '45', '46', '47', '48', '49', '50', '51', '52', '53', '54', '55', '56', '57', '58', '59', '60', '61', '62', '63', '64', '65', '66', '67', '68', '69', '70', '71', '72', '73', '74', '75', '76', '77', '78', '79', '80', '81', '82', '83', '84', '85', '86', '87', '88', '89', '90', '91', '92', '93', '94', '95', '96', '97', '98', '99']\n",
      "\n",
      "\n",
      "<class 'str'>\n"
     ]
    }
   ],
   "source": [
    "void_string = \"\"\n",
    "\n",
    "i = 0\n",
    "\n",
    "for combination in combinations_of_2_digits:\n",
    "\n",
    "    for item in combination:\n",
    "\n",
    "        void_string = void_string + str(item)\n",
    "\n",
    "    combinations_of_2_digits[i] = void_string\n",
    "\n",
    "    i += 1\n",
    "\n",
    "    void_string = \"\"\n",
    "\n",
    "print(combinations_of_2_digits)\n",
    "\n",
    "print (\"\\n\")\n",
    "\n",
    "print (type(combinations_of_2_digits[0]))       # Showing the final type of the first element (but they are all the same)"
   ]
  },
  {
   "attachments": {},
   "cell_type": "markdown",
   "metadata": {},
   "source": [
    "Let's now apply the same algorithm to get the lists of all combinations of 1, 2, 3, 4 and 5 digits."
   ]
  },
  {
   "cell_type": "code",
   "execution_count": 17,
   "metadata": {},
   "outputs": [
    {
     "name": "stdout",
     "output_type": "stream",
     "text": [
      "['0' '1' '2' '3' '4' '5' '6' '7' '8' '9']\n",
      "['00' '01' '02' ... '97' '98' '99']\n",
      "['000' '001' '002' ... '997' '998' '999']\n",
      "['0000' '0001' '0002' ... '9997' '9998' '9999']\n",
      "['00000' '00001' '00002' ... '99997' '99998' '99999']\n",
      "\n",
      "\n",
      "Stored 'combinations' (list)\n"
     ]
    }
   ],
   "source": [
    "set = [0, 1, 2, 3, 4, 5, 6, 7, 8, 9]\n",
    "\n",
    "combinations = []\n",
    "\n",
    "void_string = \"\"\n",
    "\n",
    "for digits in range (0, 6, 1):                  # First generating the tuples\n",
    "\n",
    "    i = 0\n",
    "\n",
    "    combinations.append([p for p in itertools.product(set, repeat = digits)])\n",
    "    \n",
    "    for combination in combinations[digits]:    # Then converting the elements in each tuple into strings\n",
    "\n",
    "        for item in combination:\n",
    "\n",
    "            void_string = void_string + str(item)\n",
    "\n",
    "        combinations[digits][i] = void_string\n",
    "\n",
    "        i += 1\n",
    "\n",
    "        void_string = \"\"\n",
    "\n",
    "    combinations[digits] = numpy.array(combinations[digits])\n",
    "\n",
    "with numpy.printoptions(threshold = 10):\n",
    "    print(combinations[1])\n",
    "    print(combinations[2])\n",
    "    print(combinations[3])\n",
    "    print(combinations[4])\n",
    "    print(combinations[5])\n",
    "\n",
    "print(\"\\n\")\n",
    "\n",
    "%store combinations"
   ]
  },
  {
   "attachments": {},
   "cell_type": "markdown",
   "metadata": {},
   "source": [
    "# Data Check"
   ]
  },
  {
   "attachments": {},
   "cell_type": "markdown",
   "metadata": {},
   "source": [
    "Before starting the analysis, we should first check our set of combinations.\n",
    "\n",
    "We will only consider combinations of numbers belonging to the maximum number of digits whose combinations will prove to be all found within the first million digits of Pi.\n",
    "\n",
    "To check that, we can use the attribute \"Not Found\" from the *main_computation* function.\n",
    "\n",
    "<span style=\"color:red\">**WARNING**</span>: the computation may take several minutes (around 20 minutes)."
   ]
  },
  {
   "cell_type": "code",
   "execution_count": 18,
   "metadata": {},
   "outputs": [
    {
     "name": "stdout",
     "output_type": "stream",
     "text": [
      "Checking combinations of 1 digits...\n",
      "\n",
      "Checking combinations of 2 digits...\n",
      "\n",
      "Checking combinations of 3 digits...\n",
      "\n",
      "Checking combinations of 4 digits...\n",
      "\n",
      "Checking combinations of 5 digits...\n",
      "\n",
      "|         Digits          |  Not_Found  |\n",
      "|-------------------------|-------------|\n",
      "| Combination of 1 digits |      0      |\n",
      "| Combination of 2 digits |      0      |\n",
      "| Combination of 3 digits |      0      |\n",
      "| Combination of 4 digits |      0      |\n",
      "| Combination of 5 digits |      8      |\n",
      "\n",
      "The following combinations have not been found within the first million digits of Pi:\n",
      "['14523' '17125' '22801' '33394' '36173' '39648' '40527' '96710']\n",
      "\n",
      "\n",
      "Stored 'combinations_not_found' (ndarray)\n"
     ]
    }
   ],
   "source": [
    "combinations_not_found = []\n",
    "\n",
    "count_combinations_not_found = []\n",
    "\n",
    "for digits in range(1, 6, 1):\n",
    "\n",
    "    count_combinations_not_found.append(0)\n",
    "\n",
    "    print(\"Checking combinations of {} digits...\\n\".format(digits))\n",
    "\n",
    "    for i in range (0, len(combinations[digits]), 1):\n",
    "\n",
    "        print(\"Current Iteration: {Iteration} / {Total_Iterations}\". format(Iteration = i, Total_Iterations = len(combinations[digits])), end = \"\\r\", flush = True)\n",
    "\n",
    "        if (main_computation(combinations[digits][i])[\"Not Found\"] == True):\n",
    "\n",
    "            combinations_not_found.append(str(combinations[digits][i]))\n",
    "\n",
    "            count_combinations_not_found[(digits - 1)] += 1\n",
    "\n",
    "combinations_not_found = numpy.array(combinations_not_found)\n",
    "\n",
    "check_table = []\n",
    "\n",
    "for digits in range(1, 6, 1):\n",
    "    \n",
    "    check_table.append([\"Combination of {} digits\".format(digits), count_combinations_not_found[digits - 1]])\n",
    "\n",
    "print(tabulate(check_table, headers = [\"Digits\", \"Not_Found\"], tablefmt = \"github\", numalign = \"center\", stralign = \"center\"))\n",
    "\n",
    "print(\"\\nThe following combinations have not been found within the first million digits of Pi:\")\n",
    "\n",
    "print(combinations_not_found)\n",
    "\n",
    "print (\"\\n\")\n",
    "\n",
    "%store combinations_not_found"
   ]
  },
  {
   "attachments": {},
   "cell_type": "markdown",
   "metadata": {},
   "source": [
    "To sum up, after running the *main_computation* function through all the combinations, it has been found that:\n",
    "\n",
    "- All the numbers of 1, 2, 3 or 4 digits can be found within the first million digits of Pi.\n",
    "\n",
    "- The following combinations of 5 digits cannot be found within the first million digits of Pi: 14523, 17125, 22801, 33394, 36173, 39648, 40527, 96710."
   ]
  },
  {
   "attachments": {},
   "cell_type": "markdown",
   "metadata": {},
   "source": [
    "# The Dataset"
   ]
  },
  {
   "attachments": {},
   "cell_type": "markdown",
   "metadata": {},
   "source": [
    "Due to the limitations emerged in the previous chapter, only the combinations of up to **4** digits are taken into consideration.\n",
    "\n",
    "As a result, we know that we can count on a total of 11110 combinations:\n",
    "\n",
    "- 10 single-digit combinations\n",
    "\n",
    "- 100 double-digit combinations\n",
    "\n",
    "- 1000 triple-digit combinations\n",
    "\n",
    "- 10000 quadruple-digit combinations"
   ]
  },
  {
   "attachments": {},
   "cell_type": "markdown",
   "metadata": {},
   "source": [
    "For each combination, we are interested in tracking the following pieces of information:\n",
    "\n",
    "| Attribute | Description | Type | Range |\n",
    "| --------- | ----------- | ---- | ----- |\n",
    "| Digits | Number of digits of the combination | int | 1 - 4 |\n",
    "| Digits_Before | Number of digits to check before finding the combination in pi | int | 1 - 1000000 |\n",
    "| Occurrencies | Number of occurrencies within the first million digits of pi | int | 1 - 1000000 |\n",
    "\n",
    "Therefore, let's create a pandas dataframe to collect such data in a table.\n",
    "\n",
    "<span style=\"color:red\">**WARNING**</span>: the computation may take several minutes (around 15 minutes)."
   ]
  },
  {
   "cell_type": "code",
   "execution_count": 19,
   "metadata": {},
   "outputs": [
    {
     "name": "stdout",
     "output_type": "stream",
     "text": [
      "Working on combinations of 1 digits...\n",
      "\n",
      "Working on combinations of 2 digits...\n",
      "\n",
      "Working on combinations of 3 digits...\n",
      "\n",
      "Working on combinations of 4 digits...\n",
      "\n",
      "Dataset has been created successfully!\n",
      "\n",
      "Stored 'dataframe' (DataFrame)\n"
     ]
    }
   ],
   "source": [
    "# Creating the dictionary for pandas dataframe\n",
    "data = []\n",
    "\n",
    "for digits in range(1, 5, 1):\n",
    "\n",
    "    print(\"Working on combinations of {} digits...\\n\".format(digits))\n",
    "\n",
    "    for i in range (0, len(combinations[digits]), 1):\n",
    "\n",
    "        print(\"Current Iteration: {Iteration} / {Total_Iterations}\". format(Iteration = i, Total_Iterations = len(combinations[digits])), end = \"\\r\", flush = True)\n",
    "\n",
    "        temp_data = main_computation(combinations[digits][i])\n",
    "\n",
    "        data.append (\n",
    "            {\n",
    "                \"Combination\": combinations[digits][i],\n",
    "                \"Digits\": digits,\n",
    "                \"Digits_Before\": temp_data[\"Digits Checked\"],\n",
    "                \"Occurrencies\": check_occurrencies(combinations[digits][i], temp_data[\"Digits Checked\"])\n",
    "            }\n",
    "        )\n",
    "\n",
    "#Creating the dataframe\n",
    "dataframe = pandas.DataFrame(data, index = pandas.RangeIndex(1, 11111, 1))\n",
    "\n",
    "print(\"Dataset has been created successfully!\\n\")\n",
    "\n",
    "%store dataframe"
   ]
  },
  {
   "attachments": {},
   "cell_type": "markdown",
   "metadata": {},
   "source": [
    "To conclude, an overview of the dataset created is provided."
   ]
  },
  {
   "cell_type": "code",
   "execution_count": 20,
   "metadata": {},
   "outputs": [
    {
     "data": {
      "text/html": [
       "<div>\n",
       "<style scoped>\n",
       "    .dataframe tbody tr th:only-of-type {\n",
       "        vertical-align: middle;\n",
       "    }\n",
       "\n",
       "    .dataframe tbody tr th {\n",
       "        vertical-align: top;\n",
       "    }\n",
       "\n",
       "    .dataframe thead th {\n",
       "        text-align: right;\n",
       "    }\n",
       "</style>\n",
       "<table border=\"1\" class=\"dataframe\">\n",
       "  <thead>\n",
       "    <tr style=\"text-align: right;\">\n",
       "      <th></th>\n",
       "      <th>Combination</th>\n",
       "      <th>Digits</th>\n",
       "      <th>Digits_Before</th>\n",
       "      <th>Occurrencies</th>\n",
       "    </tr>\n",
       "  </thead>\n",
       "  <tbody>\n",
       "    <tr>\n",
       "      <th>1</th>\n",
       "      <td>0</td>\n",
       "      <td>1</td>\n",
       "      <td>32</td>\n",
       "      <td>99959</td>\n",
       "    </tr>\n",
       "    <tr>\n",
       "      <th>2</th>\n",
       "      <td>1</td>\n",
       "      <td>1</td>\n",
       "      <td>1</td>\n",
       "      <td>99758</td>\n",
       "    </tr>\n",
       "    <tr>\n",
       "      <th>3</th>\n",
       "      <td>2</td>\n",
       "      <td>1</td>\n",
       "      <td>6</td>\n",
       "      <td>100026</td>\n",
       "    </tr>\n",
       "    <tr>\n",
       "      <th>4</th>\n",
       "      <td>3</td>\n",
       "      <td>1</td>\n",
       "      <td>0</td>\n",
       "      <td>100230</td>\n",
       "    </tr>\n",
       "    <tr>\n",
       "      <th>5</th>\n",
       "      <td>4</td>\n",
       "      <td>1</td>\n",
       "      <td>2</td>\n",
       "      <td>100230</td>\n",
       "    </tr>\n",
       "    <tr>\n",
       "      <th>...</th>\n",
       "      <td>...</td>\n",
       "      <td>...</td>\n",
       "      <td>...</td>\n",
       "      <td>...</td>\n",
       "    </tr>\n",
       "    <tr>\n",
       "      <th>11106</th>\n",
       "      <td>9995</td>\n",
       "      <td>4</td>\n",
       "      <td>18680</td>\n",
       "      <td>112</td>\n",
       "    </tr>\n",
       "    <tr>\n",
       "      <th>11107</th>\n",
       "      <td>9996</td>\n",
       "      <td>4</td>\n",
       "      <td>13019</td>\n",
       "      <td>99</td>\n",
       "    </tr>\n",
       "    <tr>\n",
       "      <th>11108</th>\n",
       "      <td>9997</td>\n",
       "      <td>4</td>\n",
       "      <td>22309</td>\n",
       "      <td>103</td>\n",
       "    </tr>\n",
       "    <tr>\n",
       "      <th>11109</th>\n",
       "      <td>9998</td>\n",
       "      <td>4</td>\n",
       "      <td>765</td>\n",
       "      <td>90</td>\n",
       "    </tr>\n",
       "    <tr>\n",
       "      <th>11110</th>\n",
       "      <td>9999</td>\n",
       "      <td>4</td>\n",
       "      <td>762</td>\n",
       "      <td>113</td>\n",
       "    </tr>\n",
       "  </tbody>\n",
       "</table>\n",
       "<p>11110 rows × 4 columns</p>\n",
       "</div>"
      ],
      "text/plain": [
       "      Combination  Digits  Digits_Before  Occurrencies\n",
       "1               0       1             32         99959\n",
       "2               1       1              1         99758\n",
       "3               2       1              6        100026\n",
       "4               3       1              0        100230\n",
       "5               4       1              2        100230\n",
       "...           ...     ...            ...           ...\n",
       "11106        9995       4          18680           112\n",
       "11107        9996       4          13019            99\n",
       "11108        9997       4          22309           103\n",
       "11109        9998       4            765            90\n",
       "11110        9999       4            762           113\n",
       "\n",
       "[11110 rows x 4 columns]"
      ]
     },
     "execution_count": 20,
     "metadata": {},
     "output_type": "execute_result"
    }
   ],
   "source": [
    "dataframe"
   ]
  }
 ],
 "metadata": {
  "kernelspec": {
   "display_name": "Python 3",
   "language": "python",
   "name": "python3"
  },
  "language_info": {
   "codemirror_mode": {
    "name": "ipython",
    "version": 3
   },
   "file_extension": ".py",
   "mimetype": "text/x-python",
   "name": "python",
   "nbconvert_exporter": "python",
   "pygments_lexer": "ipython3",
   "version": "3.11.2"
  },
  "orig_nbformat": 4,
  "vscode": {
   "interpreter": {
    "hash": "5238573367df39f7286bb46f9ff5f08f63a01a80960060ce41e3c79b190280fa"
   }
  }
 },
 "nbformat": 4,
 "nbformat_minor": 2
}
