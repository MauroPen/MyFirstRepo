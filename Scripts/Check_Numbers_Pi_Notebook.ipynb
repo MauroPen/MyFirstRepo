{
 "cells": [
  {
   "attachments": {},
   "cell_type": "markdown",
   "metadata": {},
   "source": [
    "# Digits After Pi"
   ]
  },
  {
   "attachments": {},
   "cell_type": "markdown",
   "metadata": {},
   "source": [
    "# Introduction"
   ]
  },
  {
   "attachments": {},
   "cell_type": "markdown",
   "metadata": {},
   "source": [
    "The objective of the study is a simple analysis aiming at studying a possible underlying link between combinations of numbers and how many digits they take to be found into Pi. The analysis will only consider combinations which can be found within the first **million digits of Pi** because that is the best free option found online which is also contained into a Python module (**math-pi**)."
   ]
  },
  {
   "cell_type": "code",
   "execution_count": 32,
   "metadata": {},
   "outputs": [
    {
     "name": "stdout",
     "output_type": "stream",
     "text": [
      "3.1415926535897932384626433832795028841971693993751058209749445923078164062862089986280348253421170679\n"
     ]
    }
   ],
   "source": [
    "import math_pi\n",
    "\n",
    "pi = math_pi.pi(1, 100)\n",
    "\n",
    "print(pi)"
   ]
  },
  {
   "attachments": {},
   "cell_type": "markdown",
   "metadata": {},
   "source": [
    "The first part will introduce the function developed to check a given combination of numbers. Then, the combination of numbers considered in the analysis are presented and ordered according to some criteria. Eventyally, the results are presented and an interpretation (if possible) is provided."
   ]
  },
  {
   "attachments": {},
   "cell_type": "markdown",
   "metadata": {},
   "source": [
    "# The Check Function"
   ]
  },
  {
   "attachments": {},
   "cell_type": "markdown",
   "metadata": {},
   "source": [
    "The function developed (*main_computation*) takes a string as an input and returns a dictionary with the following keys:\n",
    "<pre>\n",
    "{\n",
    "    \"Digits Checked\": [int],    # Indicates the number of Pi checked before finding the combination requested\n",
    "    \"Pi Until\": [str],          # Stores the whole series of digits of Pi until the combination requested\n",
    "    \"Not Found\": True           # Boolean value indicating the result of the query\n",
    "}\n",
    "</pre>\n",
    "\n",
    "Hereby, an example is provided."
   ]
  },
  {
   "cell_type": "code",
   "execution_count": 2,
   "metadata": {},
   "outputs": [
    {
     "name": "stdout",
     "output_type": "stream",
     "text": [
      "{'Digits Checked': 150, 'Pi Until': '314159265358979323846264338327950288419716939937510582097494459230781640628620899862803482534211706798214808651328230664709384460955058223172535940812848', 'Not Found': False}\n"
     ]
    }
   ],
   "source": [
    "from Check_Numbers_Pi.Dependency import main_computation\n",
    "\n",
    "example = main_computation(\"848\")\n",
    "\n",
    "print(example)"
   ]
  },
  {
   "attachments": {},
   "cell_type": "markdown",
   "metadata": {},
   "source": [
    "# The Combinations"
   ]
  },
  {
   "attachments": {},
   "cell_type": "markdown",
   "metadata": {},
   "source": [
    "All the combinations of a maximum of 5 digits that can be created between using the numbers between 0 and 9 are taken into account.\n",
    "\n",
    "To generate all the possible combinations, *itertools* module can be used. The idea is to generate the combinations of 1, 2, 3, 4 and then 5 digits and then collect them in an array.\n",
    "\n",
    "Hereby, an example of such application considering 2 digits is provided."
   ]
  },
  {
   "cell_type": "code",
   "execution_count": 31,
   "metadata": {},
   "outputs": [
    {
     "name": "stdout",
     "output_type": "stream",
     "text": [
      "[(0, 0), (0, 1), (0, 2), (0, 3), (0, 4), (0, 5), (0, 6), (0, 7), (0, 8), (0, 9), (1, 0), (1, 1), (1, 2), (1, 3), (1, 4), (1, 5), (1, 6), (1, 7), (1, 8), (1, 9), (2, 0), (2, 1), (2, 2), (2, 3), (2, 4), (2, 5), (2, 6), (2, 7), (2, 8), (2, 9), (3, 0), (3, 1), (3, 2), (3, 3), (3, 4), (3, 5), (3, 6), (3, 7), (3, 8), (3, 9), (4, 0), (4, 1), (4, 2), (4, 3), (4, 4), (4, 5), (4, 6), (4, 7), (4, 8), (4, 9), (5, 0), (5, 1), (5, 2), (5, 3), (5, 4), (5, 5), (5, 6), (5, 7), (5, 8), (5, 9), (6, 0), (6, 1), (6, 2), (6, 3), (6, 4), (6, 5), (6, 6), (6, 7), (6, 8), (6, 9), (7, 0), (7, 1), (7, 2), (7, 3), (7, 4), (7, 5), (7, 6), (7, 7), (7, 8), (7, 9), (8, 0), (8, 1), (8, 2), (8, 3), (8, 4), (8, 5), (8, 6), (8, 7), (8, 8), (8, 9), (9, 0), (9, 1), (9, 2), (9, 3), (9, 4), (9, 5), (9, 6), (9, 7), (9, 8), (9, 9)]\n",
      "\n",
      "\n",
      "<class 'tuple'>\n"
     ]
    }
   ],
   "source": [
    "import itertools\n",
    "\n",
    "set = [0, 1, 2, 3, 4, 5, 6, 7, 8, 9]\n",
    "\n",
    "# First the combinations are generated\n",
    "combinations_of_2_digits = [p for p in itertools.product(set, repeat = 2)]\n",
    "\n",
    "print(combinations_of_2_digits)\n",
    "\n",
    "print (\"\\n\")\n",
    "\n",
    "print (type(combinations_of_2_digits[0]))       # Showing the type of the first element (but they are all the same)\n",
    "\n"
   ]
  },
  {
   "attachments": {},
   "cell_type": "markdown",
   "metadata": {},
   "source": [
    "Since the *main_computation* function requires inputs to be strings, we cannot use the elements generated until we have first converted all its elements into strings."
   ]
  },
  {
   "cell_type": "code",
   "execution_count": 30,
   "metadata": {},
   "outputs": [
    {
     "name": "stdout",
     "output_type": "stream",
     "text": [
      "['00', '01', '02', '03', '04', '05', '06', '07', '08', '09', '10', '11', '12', '13', '14', '15', '16', '17', '18', '19', '20', '21', '22', '23', '24', '25', '26', '27', '28', '29', '30', '31', '32', '33', '34', '35', '36', '37', '38', '39', '40', '41', '42', '43', '44', '45', '46', '47', '48', '49', '50', '51', '52', '53', '54', '55', '56', '57', '58', '59', '60', '61', '62', '63', '64', '65', '66', '67', '68', '69', '70', '71', '72', '73', '74', '75', '76', '77', '78', '79', '80', '81', '82', '83', '84', '85', '86', '87', '88', '89', '90', '91', '92', '93', '94', '95', '96', '97', '98', '99']\n",
      "\n",
      "\n",
      "<class 'str'>\n"
     ]
    }
   ],
   "source": [
    "void_string = \"\"\n",
    "\n",
    "i = 0\n",
    "\n",
    "for combination in combinations_of_2_digits:\n",
    "\n",
    "    for item in combination:\n",
    "\n",
    "        void_string = void_string + str(item)\n",
    "\n",
    "    combinations_of_2_digits[i] = void_string\n",
    "\n",
    "    i += 1\n",
    "\n",
    "    void_string = \"\"\n",
    "\n",
    "print(combinations_of_2_digits)\n",
    "\n",
    "print (\"\\n\")\n",
    "\n",
    "print (type(combinations_of_2_digits[0]))       # Showing the final type of the first element (but they are all the same)\n"
   ]
  },
  {
   "attachments": {},
   "cell_type": "markdown",
   "metadata": {},
   "source": [
    "https://ipython.readthedocs.io/en/stable/config/extensions/autoreload.html#autoreload"
   ]
  }
 ],
 "metadata": {
  "kernelspec": {
   "display_name": "Python 3",
   "language": "python",
   "name": "python3"
  },
  "language_info": {
   "codemirror_mode": {
    "name": "ipython",
    "version": 3
   },
   "file_extension": ".py",
   "mimetype": "text/x-python",
   "name": "python",
   "nbconvert_exporter": "python",
   "pygments_lexer": "ipython3",
   "version": "3.11.2"
  },
  "orig_nbformat": 4,
  "vscode": {
   "interpreter": {
    "hash": "5238573367df39f7286bb46f9ff5f08f63a01a80960060ce41e3c79b190280fa"
   }
  }
 },
 "nbformat": 4,
 "nbformat_minor": 2
}
