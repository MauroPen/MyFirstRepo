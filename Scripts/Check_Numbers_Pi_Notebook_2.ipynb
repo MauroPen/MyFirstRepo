{
 "cells": [
  {
   "cell_type": "code",
   "execution_count": 1,
   "metadata": {},
   "outputs": [],
   "source": [
    "%store -r\n",
    "%matplotlib inline\n",
    "\n",
    "import matplotlib.pyplot\n",
    "import pandas\n",
    "\n",
    "from tabulate import tabulate"
   ]
  },
  {
   "attachments": {},
   "cell_type": "markdown",
   "metadata": {},
   "source": [
    "# Analysis"
   ]
  },
  {
   "cell_type": "markdown",
   "metadata": {},
   "source": [
    "## Introduction"
   ]
  },
  {
   "cell_type": "code",
   "execution_count": 2,
   "metadata": {},
   "outputs": [
    {
     "data": {
      "text/html": [
       "<div>\n",
       "<style scoped>\n",
       "    .dataframe tbody tr th:only-of-type {\n",
       "        vertical-align: middle;\n",
       "    }\n",
       "\n",
       "    .dataframe tbody tr th {\n",
       "        vertical-align: top;\n",
       "    }\n",
       "\n",
       "    .dataframe thead th {\n",
       "        text-align: right;\n",
       "    }\n",
       "</style>\n",
       "<table border=\"1\" class=\"dataframe\">\n",
       "  <thead>\n",
       "    <tr style=\"text-align: right;\">\n",
       "      <th></th>\n",
       "      <th>Combination</th>\n",
       "      <th>Digits</th>\n",
       "      <th>Digits_Before</th>\n",
       "      <th>Occurrencies</th>\n",
       "    </tr>\n",
       "  </thead>\n",
       "  <tbody>\n",
       "    <tr>\n",
       "      <th>1</th>\n",
       "      <td>0</td>\n",
       "      <td>1</td>\n",
       "      <td>32</td>\n",
       "      <td>99959</td>\n",
       "    </tr>\n",
       "    <tr>\n",
       "      <th>2</th>\n",
       "      <td>1</td>\n",
       "      <td>1</td>\n",
       "      <td>1</td>\n",
       "      <td>99758</td>\n",
       "    </tr>\n",
       "    <tr>\n",
       "      <th>3</th>\n",
       "      <td>2</td>\n",
       "      <td>1</td>\n",
       "      <td>6</td>\n",
       "      <td>100026</td>\n",
       "    </tr>\n",
       "    <tr>\n",
       "      <th>4</th>\n",
       "      <td>3</td>\n",
       "      <td>1</td>\n",
       "      <td>0</td>\n",
       "      <td>100230</td>\n",
       "    </tr>\n",
       "    <tr>\n",
       "      <th>5</th>\n",
       "      <td>4</td>\n",
       "      <td>1</td>\n",
       "      <td>2</td>\n",
       "      <td>100230</td>\n",
       "    </tr>\n",
       "    <tr>\n",
       "      <th>...</th>\n",
       "      <td>...</td>\n",
       "      <td>...</td>\n",
       "      <td>...</td>\n",
       "      <td>...</td>\n",
       "    </tr>\n",
       "    <tr>\n",
       "      <th>11106</th>\n",
       "      <td>9995</td>\n",
       "      <td>4</td>\n",
       "      <td>18680</td>\n",
       "      <td>112</td>\n",
       "    </tr>\n",
       "    <tr>\n",
       "      <th>11107</th>\n",
       "      <td>9996</td>\n",
       "      <td>4</td>\n",
       "      <td>13019</td>\n",
       "      <td>99</td>\n",
       "    </tr>\n",
       "    <tr>\n",
       "      <th>11108</th>\n",
       "      <td>9997</td>\n",
       "      <td>4</td>\n",
       "      <td>22309</td>\n",
       "      <td>103</td>\n",
       "    </tr>\n",
       "    <tr>\n",
       "      <th>11109</th>\n",
       "      <td>9998</td>\n",
       "      <td>4</td>\n",
       "      <td>765</td>\n",
       "      <td>90</td>\n",
       "    </tr>\n",
       "    <tr>\n",
       "      <th>11110</th>\n",
       "      <td>9999</td>\n",
       "      <td>4</td>\n",
       "      <td>762</td>\n",
       "      <td>113</td>\n",
       "    </tr>\n",
       "  </tbody>\n",
       "</table>\n",
       "<p>11110 rows × 4 columns</p>\n",
       "</div>"
      ],
      "text/plain": [
       "      Combination  Digits  Digits_Before  Occurrencies\n",
       "1               0       1             32         99959\n",
       "2               1       1              1         99758\n",
       "3               2       1              6        100026\n",
       "4               3       1              0        100230\n",
       "5               4       1              2        100230\n",
       "...           ...     ...            ...           ...\n",
       "11106        9995       4          18680           112\n",
       "11107        9996       4          13019            99\n",
       "11108        9997       4          22309           103\n",
       "11109        9998       4            765            90\n",
       "11110        9999       4            762           113\n",
       "\n",
       "[11110 rows x 4 columns]"
      ]
     },
     "execution_count": 2,
     "metadata": {},
     "output_type": "execute_result"
    }
   ],
   "source": [
    "dataframe"
   ]
  },
  {
   "cell_type": "markdown",
   "metadata": {},
   "source": [
    "The dataframe ahead contains the data about the number of occurencies and of digits to go through pi before finding every combination of up to 4 digits (from 0 to 9999).\n"
   ]
  },
  {
   "cell_type": "code",
   "execution_count": 3,
   "metadata": {},
   "outputs": [
    {
     "data": {
      "text/html": [
       "<div>\n",
       "<style scoped>\n",
       "    .dataframe tbody tr th:only-of-type {\n",
       "        vertical-align: middle;\n",
       "    }\n",
       "\n",
       "    .dataframe tbody tr th {\n",
       "        vertical-align: top;\n",
       "    }\n",
       "\n",
       "    .dataframe thead th {\n",
       "        text-align: right;\n",
       "    }\n",
       "</style>\n",
       "<table border=\"1\" class=\"dataframe\">\n",
       "  <thead>\n",
       "    <tr style=\"text-align: right;\">\n",
       "      <th></th>\n",
       "      <th>Digits</th>\n",
       "      <th>Digits_Before</th>\n",
       "      <th>Occurrencies</th>\n",
       "    </tr>\n",
       "  </thead>\n",
       "  <tbody>\n",
       "    <tr>\n",
       "      <th>count</th>\n",
       "      <td>11110.000000</td>\n",
       "      <td>11110.000000</td>\n",
       "      <td>11110.000000</td>\n",
       "    </tr>\n",
       "    <tr>\n",
       "      <th>mean</th>\n",
       "      <td>3.889289</td>\n",
       "      <td>9037.379028</td>\n",
       "      <td>360.034743</td>\n",
       "    </tr>\n",
       "    <tr>\n",
       "      <th>std</th>\n",
       "      <td>0.349095</td>\n",
       "      <td>9730.324662</td>\n",
       "      <td>3141.908802</td>\n",
       "    </tr>\n",
       "    <tr>\n",
       "      <th>min</th>\n",
       "      <td>1.000000</td>\n",
       "      <td>0.000000</td>\n",
       "      <td>64.000000</td>\n",
       "    </tr>\n",
       "    <tr>\n",
       "      <th>25%</th>\n",
       "      <td>4.000000</td>\n",
       "      <td>2006.250000</td>\n",
       "      <td>94.000000</td>\n",
       "    </tr>\n",
       "    <tr>\n",
       "      <th>50%</th>\n",
       "      <td>4.000000</td>\n",
       "      <td>5870.500000</td>\n",
       "      <td>101.000000</td>\n",
       "    </tr>\n",
       "    <tr>\n",
       "      <th>75%</th>\n",
       "      <td>4.000000</td>\n",
       "      <td>12761.000000</td>\n",
       "      <td>110.000000</td>\n",
       "    </tr>\n",
       "    <tr>\n",
       "      <th>max</th>\n",
       "      <td>4.000000</td>\n",
       "      <td>99846.000000</td>\n",
       "      <td>100359.000000</td>\n",
       "    </tr>\n",
       "  </tbody>\n",
       "</table>\n",
       "</div>"
      ],
      "text/plain": [
       "             Digits  Digits_Before   Occurrencies\n",
       "count  11110.000000   11110.000000   11110.000000\n",
       "mean       3.889289    9037.379028     360.034743\n",
       "std        0.349095    9730.324662    3141.908802\n",
       "min        1.000000       0.000000      64.000000\n",
       "25%        4.000000    2006.250000      94.000000\n",
       "50%        4.000000    5870.500000     101.000000\n",
       "75%        4.000000   12761.000000     110.000000\n",
       "max        4.000000   99846.000000  100359.000000"
      ]
     },
     "execution_count": 3,
     "metadata": {},
     "output_type": "execute_result"
    }
   ],
   "source": [
    "dataframe.describe()"
   ]
  },
  {
   "cell_type": "markdown",
   "metadata": {},
   "source": [
    "By looking at its key descriptive statistics, it is possible to notice that considering the first million digits of pi:\n",
    "- On average, you must go through 9037+ digits before finding a certain combination;\n",
    "- On average, each combination can be found 360+ times;\n",
    "- The dataset is characterized by high variability (standard deviation values are very high).\n",
    "\n",
    "This can be due to the fact that **combinations made of multiple digits are intrinsically more difficult to be found** with respect to single-digit numbers."
   ]
  },
  {
   "cell_type": "code",
   "execution_count": 4,
   "metadata": {},
   "outputs": [
    {
     "data": {
      "image/png": "[encoded data removed]",
      "text/plain": [
       "<Figure size 1200x600 with 2 Axes>"
      ]
     },
     "metadata": {},
     "output_type": "display_data"
    }
   ],
   "source": [
    "# Creates a figure with two plots\n",
    "fig, (ax1, ax2) = matplotlib.pyplot.subplots(1, 2, figsize = (12, 6))\n",
    "\n",
    "# Plot 1 on ax1\n",
    "ax1.plot(dataframe[\"Combination\"], dataframe[\"Digits_Before\"], label = \"Number of Digits Before\", color = \"blue\")\n",
    "\n",
    "ax1.set_title(\"Number of Digits Before Combination\")\n",
    "ax1.set_xlabel(\"Combination\")\n",
    "ax1.set_ylabel(\"Number of Digits Before\")\n",
    "matplotlib.pyplot.setp(ax1.get_xticklabels(), visible = False) #Hiding tick labels for readability\n",
    "matplotlib.pyplot.xticks([])\n",
    "ax1.legend()\n",
    "\n",
    "# Plot 2 on ax2\n",
    "ax2.plot(dataframe[\"Combination\"], dataframe[\"Occurrencies\"], label = \"Occurrencies\", color = \"green\")\n",
    "\n",
    "ax2.set_title(\"Number of Occurrencies\")\n",
    "ax2.set_xlabel(\"Combination\")\n",
    "ax2.set_ylabel(\"Occurrencies\")\n",
    "matplotlib.pyplot.setp(ax2.get_xticklabels(), visible = False) #Hiding tick labels for readability\n",
    "matplotlib.pyplot.xticks([])\n",
    "ax2.legend()\n",
    "\n",
    "# Show plots\n",
    "matplotlib.pyplot.tight_layout()\n",
    "matplotlib.pyplot.show()"
   ]
  },
  {
   "cell_type": "markdown",
   "metadata": {},
   "source": [
    "Since the combinations are ordered according to their number of digits, from these plots is evident that this plays a significant role on the two variables we are investigating. Let's go more in-depth by slicing the dataset according to the number of digits for each combination."
   ]
  },
  {
   "cell_type": "code",
   "execution_count": 5,
   "metadata": {},
   "outputs": [
    {
     "name": "stdout",
     "output_type": "stream",
     "text": [
      "|          Digits          |  Number of Combinations  |  Mean(Digits_Before)  |  Std(Digits_Before)  |  Mean(Occurrencies)  |  Std(Occurrencies)  |\n",
      "|--------------------------|--------------------------|-----------------------|----------------------|----------------------|---------------------|\n",
      "| Combinations of 1 digits |            10            |          8.1          |       9.36245        |        100000        |       247.514       |\n",
      "| Combinations of 2 digits |           100            |        107.07         |       124.869        |        10000         |       97.5524       |\n",
      "| Combinations of 3 digits |           1000           |        989.874        |       979.122        |       999.995        |       30.9706       |\n",
      "| Combinations of 4 digits |          10000           |        9940.46        |        9844.9        |        99.999        |       9.98921       |\n",
      "|          Total           |          11110           |        9037.38        |       9730.32        |       360.035        |       3141.91       |\n"
     ]
    }
   ],
   "source": [
    "slice_mean_std = []\n",
    "\n",
    "for digits in range(1, 5, 1):\n",
    "    temp_df = dataframe[dataframe[\"Digits\"] == digits]\n",
    "    slice_mean_std.append([\"Combinations of {} digits\".format(digits), len(temp_df), temp_df[\"Digits_Before\"].mean(), temp_df[\"Digits_Before\"].std(), temp_df[\"Occurrencies\"].mean(), temp_df[\"Occurrencies\"].std()])\n",
    "\n",
    "slice_mean_std.append([\"Total\", len(dataframe), dataframe[\"Digits_Before\"].mean(), dataframe[\"Digits_Before\"].std(), dataframe[\"Occurrencies\"].mean(), dataframe[\"Occurrencies\"].std()])\n",
    "\n",
    "print(tabulate(slice_mean_std, headers = [\"Digits\", \"Number of Combinations\", \"Mean(Digits_Before)\", \"Std(Digits_Before)\", \"Mean(Occurrencies)\", \"Std(Occurrencies)\"], tablefmt = \"github\", numalign = \"center\", stralign = \"center\"))"
   ]
  },
  {
   "cell_type": "markdown",
   "metadata": {},
   "source": [
    "The table ahead suggests that, if the number of digits composing the combination arises...\n",
    "- the **number of digits** to investigate before finding a specific combination **increases** too with a **10x** multiplying factor;\n",
    "- the **number of occurrencies** of that number **decreases** with a **10x** dividing factor.\n",
    "\n",
    "In the next chapters an analysis is provided by analysing the results obtained separating the combinations in clusters according to the number of their digits to provide evidence about these observations."
   ]
  },
  {
   "attachments": {},
   "cell_type": "markdown",
   "metadata": {},
   "source": [
    "## Combinations of 1 digit"
   ]
  },
  {
   "cell_type": "markdown",
   "metadata": {},
   "source": [
    "..."
   ]
  }
 ],
 "metadata": {
  "kernelspec": {
   "display_name": "Python 3",
   "language": "python",
   "name": "python3"
  },
  "language_info": {
   "codemirror_mode": {
    "name": "ipython",
    "version": 3
   },
   "file_extension": ".py",
   "mimetype": "text/x-python",
   "name": "python",
   "nbconvert_exporter": "python",
   "pygments_lexer": "ipython3",
   "version": "3.11.2"
  },
  "orig_nbformat": 4
 },
 "nbformat": 4,
 "nbformat_minor": 2
}
