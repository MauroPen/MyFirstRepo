{
 "cells": [
  {
   "cell_type": "code",
   "execution_count": 9,
   "metadata": {},
   "outputs": [],
   "source": [
    "%store -r"
   ]
  },
  {
   "attachments": {},
   "cell_type": "markdown",
   "metadata": {},
   "source": [
    "# Digits After Pi"
   ]
  },
  {
   "attachments": {},
   "cell_type": "markdown",
   "metadata": {},
   "source": [
    "# Introduction"
   ]
  },
  {
   "attachments": {},
   "cell_type": "markdown",
   "metadata": {},
   "source": [
    "The objective of the study is a simple analysis aiming at studying a possible underlying link between combinations of numbers and how many digits they take to be found into Pi. The analysis will only consider combinations which can be found within the first **million digits of Pi** because that is the best free option found online which is also contained into a Python module (**math-pi**)."
   ]
  },
  {
   "cell_type": "code",
   "execution_count": 10,
   "metadata": {},
   "outputs": [
    {
     "name": "stdout",
     "output_type": "stream",
     "text": [
      "3.1415926535897932384626433832795028841971693993751058209749445923078164062862089986280348253421170679\n"
     ]
    }
   ],
   "source": [
    "import math_pi\n",
    "\n",
    "pi = math_pi.pi(1, 100)\n",
    "\n",
    "print(pi)"
   ]
  },
  {
   "attachments": {},
   "cell_type": "markdown",
   "metadata": {},
   "source": [
    "The first part will introduce the function developed to check a given combination of numbers. Then, the combination of numbers considered in the analysis are presented and ordered according to some criteria. Eventually, the results are presented and an interpretation (if possible) is provided."
   ]
  },
  {
   "attachments": {},
   "cell_type": "markdown",
   "metadata": {},
   "source": [
    "# The Check Function"
   ]
  },
  {
   "attachments": {},
   "cell_type": "markdown",
   "metadata": {},
   "source": [
    "The function developed (*main_computation*) takes a string as an input and returns a dictionary with the following keys:\n",
    "<pre>\n",
    "{\n",
    "    \"Digits Checked\": [int],    # Indicates the number of Pi checked before finding the combination requested\n",
    "    \"Pi Until\": [str],          # Stores the whole series of digits of Pi until the combination requested\n",
    "    \"Not Found\": True           # Boolean value indicating the result of the query\n",
    "}\n",
    "</pre>\n",
    "\n",
    "Hereby, an example is provided."
   ]
  },
  {
   "cell_type": "code",
   "execution_count": 11,
   "metadata": {},
   "outputs": [
    {
     "name": "stdout",
     "output_type": "stream",
     "text": [
      "{'Digits Checked': 76, 'Pi Until': '3141592653589793238462643383279502884197169399375105820974944592307816406286208', 'Not Found': False}\n"
     ]
    }
   ],
   "source": [
    "from Check_Numbers_Pi.Dependency import main_computation\n",
    "\n",
    "example = main_computation(\"208\")\n",
    "\n",
    "print(example)"
   ]
  },
  {
   "attachments": {},
   "cell_type": "markdown",
   "metadata": {},
   "source": [
    "# The Combinations"
   ]
  },
  {
   "attachments": {},
   "cell_type": "markdown",
   "metadata": {},
   "source": [
    "All the combinations of a maximum of 5 digits that can be created between using the numbers between 0 and 9 are taken into account.\n",
    "\n",
    "To generate all the possible combinations, *itertools* module can be used. The idea is to generate the combinations of 1, 2, 3, 4 and then 5 digits and then collect them in an array.\n",
    "\n",
    "Hereby, an example of such application considering 2 digits is provided.\n",
    "\n",
    "Notice that the combinations generated are also sorted numerically: every list of combinations, in fact, is also ordered from 0 to the highest number that is possible to generate with the amount of digits considered."
   ]
  },
  {
   "cell_type": "code",
   "execution_count": 12,
   "metadata": {},
   "outputs": [
    {
     "name": "stdout",
     "output_type": "stream",
     "text": [
      "[(0, 0), (0, 1), (0, 2), (0, 3), (0, 4), (0, 5), (0, 6), (0, 7), (0, 8), (0, 9), (1, 0), (1, 1), (1, 2), (1, 3), (1, 4), (1, 5), (1, 6), (1, 7), (1, 8), (1, 9), (2, 0), (2, 1), (2, 2), (2, 3), (2, 4), (2, 5), (2, 6), (2, 7), (2, 8), (2, 9), (3, 0), (3, 1), (3, 2), (3, 3), (3, 4), (3, 5), (3, 6), (3, 7), (3, 8), (3, 9), (4, 0), (4, 1), (4, 2), (4, 3), (4, 4), (4, 5), (4, 6), (4, 7), (4, 8), (4, 9), (5, 0), (5, 1), (5, 2), (5, 3), (5, 4), (5, 5), (5, 6), (5, 7), (5, 8), (5, 9), (6, 0), (6, 1), (6, 2), (6, 3), (6, 4), (6, 5), (6, 6), (6, 7), (6, 8), (6, 9), (7, 0), (7, 1), (7, 2), (7, 3), (7, 4), (7, 5), (7, 6), (7, 7), (7, 8), (7, 9), (8, 0), (8, 1), (8, 2), (8, 3), (8, 4), (8, 5), (8, 6), (8, 7), (8, 8), (8, 9), (9, 0), (9, 1), (9, 2), (9, 3), (9, 4), (9, 5), (9, 6), (9, 7), (9, 8), (9, 9)]\n",
      "\n",
      "\n",
      "<class 'tuple'>\n"
     ]
    }
   ],
   "source": [
    "import itertools\n",
    "\n",
    "set = [0, 1, 2, 3, 4, 5, 6, 7, 8, 9]\n",
    "\n",
    "# First the combinations are generated\n",
    "combinations_of_2_digits = [p for p in itertools.product(set, repeat = 2)]\n",
    "\n",
    "print(combinations_of_2_digits)\n",
    "\n",
    "print (\"\\n\")\n",
    "\n",
    "print (type(combinations_of_2_digits[0]))       # Showing the type of the first element (but they are all the same)"
   ]
  },
  {
   "attachments": {},
   "cell_type": "markdown",
   "metadata": {},
   "source": [
    "Since the *main_computation* function requires inputs to be strings, we cannot use the elements generated until we have first converted all its elements into strings while keeping its sorting."
   ]
  },
  {
   "cell_type": "code",
   "execution_count": 13,
   "metadata": {},
   "outputs": [
    {
     "name": "stdout",
     "output_type": "stream",
     "text": [
      "['00', '01', '02', '03', '04', '05', '06', '07', '08', '09', '10', '11', '12', '13', '14', '15', '16', '17', '18', '19', '20', '21', '22', '23', '24', '25', '26', '27', '28', '29', '30', '31', '32', '33', '34', '35', '36', '37', '38', '39', '40', '41', '42', '43', '44', '45', '46', '47', '48', '49', '50', '51', '52', '53', '54', '55', '56', '57', '58', '59', '60', '61', '62', '63', '64', '65', '66', '67', '68', '69', '70', '71', '72', '73', '74', '75', '76', '77', '78', '79', '80', '81', '82', '83', '84', '85', '86', '87', '88', '89', '90', '91', '92', '93', '94', '95', '96', '97', '98', '99']\n",
      "\n",
      "\n",
      "<class 'str'>\n"
     ]
    }
   ],
   "source": [
    "void_string = \"\"\n",
    "\n",
    "i = 0\n",
    "\n",
    "for combination in combinations_of_2_digits:\n",
    "\n",
    "    for item in combination:\n",
    "\n",
    "        void_string = void_string + str(item)\n",
    "\n",
    "    combinations_of_2_digits[i] = void_string\n",
    "\n",
    "    i += 1\n",
    "\n",
    "    void_string = \"\"\n",
    "\n",
    "print(combinations_of_2_digits)\n",
    "\n",
    "print (\"\\n\")\n",
    "\n",
    "print (type(combinations_of_2_digits[0]))       # Showing the final type of the first element (but they are all the same)"
   ]
  },
  {
   "attachments": {},
   "cell_type": "markdown",
   "metadata": {},
   "source": [
    "Let's now apply the same algorithm to get the lists of all combinations of 1, 2, 3, 4 and 5 digits."
   ]
  },
  {
   "cell_type": "code",
   "execution_count": 14,
   "metadata": {},
   "outputs": [
    {
     "name": "stdout",
     "output_type": "stream",
     "text": [
      "['0' '1' '2' '3' '4' '5' '6' '7' '8' '9']\n",
      "['00' '01' '02' ... '97' '98' '99']\n",
      "['000' '001' '002' ... '997' '998' '999']\n",
      "['0000' '0001' '0002' ... '9997' '9998' '9999']\n",
      "['00000' '00001' '00002' ... '99997' '99998' '99999']\n",
      "\n",
      "\n",
      "Stored 'combinations' (list)\n"
     ]
    }
   ],
   "source": [
    "import numpy\n",
    "import itertools\n",
    "\n",
    "set = [0, 1, 2, 3, 4, 5, 6, 7, 8, 9]\n",
    "\n",
    "combinations = []\n",
    "\n",
    "void_string = \"\"\n",
    "\n",
    "for digits in range (0, 6, 1):                  # First generating the tuples\n",
    "\n",
    "    i = 0\n",
    "\n",
    "    combinations.append([p for p in itertools.product(set, repeat = digits)])\n",
    "    \n",
    "    for combination in combinations[digits]:    # Then converting the elements in each tuple into strings\n",
    "\n",
    "        for item in combination:\n",
    "\n",
    "            void_string = void_string + str(item)\n",
    "\n",
    "        combinations[digits][i] = void_string\n",
    "\n",
    "        i += 1\n",
    "\n",
    "        void_string = \"\"\n",
    "\n",
    "    combinations[digits] = numpy.array(combinations[digits])\n",
    "\n",
    "with numpy.printoptions(threshold = 10):\n",
    "    print(combinations[1])\n",
    "    print(combinations[2])\n",
    "    print(combinations[3])\n",
    "    print(combinations[4])\n",
    "    print(combinations[5])\n",
    "\n",
    "print(\"\\n\")\n",
    "\n",
    "%store combinations"
   ]
  },
  {
   "attachments": {},
   "cell_type": "markdown",
   "metadata": {},
   "source": [
    "# First Checks"
   ]
  },
  {
   "attachments": {},
   "cell_type": "markdown",
   "metadata": {},
   "source": [
    "Before starting the analysis, we should first check our set of combinations.\n",
    "\n",
    "We will only consider combinations of numbers belonging to the maximum number of digits whose combinations will prove to be fully found within the first million digits of Pi.\n",
    "\n",
    "To check so, we can use the attribute \"Not Found\" from the *main_computation* function.\n",
    "\n",
    "<span style=\"color:red\">**WARNING**</span>: the computation may take several minutes (around 15 minutes)."
   ]
  },
  {
   "cell_type": "code",
   "execution_count": 15,
   "metadata": {},
   "outputs": [
    {
     "name": "stdout",
     "output_type": "stream",
     "text": [
      "Checking combinations of 1 digits...\n",
      "\n",
      "Checking combinations of 2 digits...\n",
      "\n",
      "Checking combinations of 3 digits...\n",
      "\n",
      "Checking combinations of 4 digits...\n",
      "\n",
      "Checking combinations of 5 digits...\n",
      "\n",
      "The following combinations have not been found within the first million digits of Pi:\n",
      "['14523' '17125' '22801' '33394' '36173' '39648' '40527' '96710']\n",
      "\n",
      "\n",
      "Stored 'combinations_not_found' (ndarray)\n"
     ]
    }
   ],
   "source": [
    "import numpy\n",
    "from Check_Numbers_Pi.Dependency import main_computation\n",
    "\n",
    "combinations_not_found = []\n",
    "\n",
    "for digits in range (1, 6, 1):\n",
    "\n",
    "    print(\"Checking combinations of {} digits...\\n\".format(digits))\n",
    "\n",
    "    for i in range (0, len(combinations[digits]), 1):\n",
    "\n",
    "        print(\"Current Iteration: {Iteration} / {Total_Iterations}\". format(Iteration = i, Total_Iterations = len(combinations[digits])), end = \"\\r\", flush = True)\n",
    "\n",
    "        if (main_computation(combinations[digits][i])[\"Not Found\"] == True):\n",
    "\n",
    "            combinations_not_found.append(str(combinations[digits][i]))\n",
    "\n",
    "combinations_not_found = numpy.array(combinations_not_found)\n",
    "\n",
    "print(\"The following combinations have not been found within the first million digits of Pi:\")\n",
    "\n",
    "print(combinations_not_found)\n",
    "\n",
    "print (\"\\n\")\n",
    "\n",
    "%store combinations_not_found"
   ]
  },
  {
   "attachments": {},
   "cell_type": "markdown",
   "metadata": {},
   "source": [
    "After running the *main_computation* function through all the combinations, it has been found that:\n",
    "\n",
    "- All the numbers of 1, 2, 3 or 4 digits can be found within the first million digits of Pi.\n",
    "\n",
    "- The following combinations of 5 digits cannot be found within the first million digits of Pi: 14523, 17125, 22801, 33394, 36173, 39648, 40527, 96710.\n",
    "\n",
    "A quick proof of this is provided hereby:"
   ]
  },
  {
   "cell_type": "code",
   "execution_count": 16,
   "metadata": {},
   "outputs": [
    {
     "name": "stdout",
     "output_type": "stream",
     "text": [
      "Checking combinations of 1 digits...\n",
      "\n",
      "Checking combinations of 2 digits...\n",
      "\n",
      "Checking combinations of 3 digits...\n",
      "\n",
      "Checking combinations of 4 digits...\n",
      "\n",
      "|  Combination  |  Not Found  |\n",
      "|---------------|-------------|\n",
      "|     14523     |    True     |\n",
      "|     17125     |    True     |\n",
      "|     22801     |    True     |\n",
      "|     33394     |    True     |\n",
      "|     36173     |    True     |\n",
      "|     39648     |    True     |\n",
      "|     40527     |    True     |\n",
      "|     96710     |    True     |\n"
     ]
    }
   ],
   "source": [
    "from tabulate import tabulate\n",
    "from Check_Numbers_Pi.Dependency import main_computation\n",
    "\n",
    "for digits in range (1, 5, 1):\n",
    "\n",
    "    print(\"Checking combinations of {} digits...\\n\".format(digits))\n",
    "\n",
    "    for i in range (0, len(combinations[digits]), 1):\n",
    "\n",
    "        print(\"Current Iteration: {Iteration} / {Total_Iterations}\". format(Iteration = i, Total_Iterations = len(combinations[digits])), end = \"\\r\", flush = True)\n",
    "\n",
    "        if (main_computation(combinations[digits][i])[\"Not Found\"] == True):\n",
    "\n",
    "            print ((combinations[digits][i]))   # Nothing is printed, so all the combinations have been found\n",
    "\n",
    "not_found_table = []\n",
    "\n",
    "for combination in combinations_not_found:\n",
    "    \n",
    "    not_found_table.append([combination, main_computation(combination)[\"Not Found\"]])\n",
    "\n",
    "print(tabulate(not_found_table, headers = [\"Combination\", \"Not Found\"], tablefmt = \"github\", numalign = \"center\", stralign = \"center\"))    # Always True, so all of these combinations have not been found"
   ]
  }
 ],
 "metadata": {
  "kernelspec": {
   "display_name": "Python 3",
   "language": "python",
   "name": "python3"
  },
  "language_info": {
   "codemirror_mode": {
    "name": "ipython",
    "version": 3
   },
   "file_extension": ".py",
   "mimetype": "text/x-python",
   "name": "python",
   "nbconvert_exporter": "python",
   "pygments_lexer": "ipython3",
   "version": "3.11.2"
  },
  "orig_nbformat": 4,
  "vscode": {
   "interpreter": {
    "hash": "5238573367df39f7286bb46f9ff5f08f63a01a80960060ce41e3c79b190280fa"
   }
  }
 },
 "nbformat": 4,
 "nbformat_minor": 2
}
